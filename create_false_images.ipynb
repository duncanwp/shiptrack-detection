{
 "cells": [
  {
   "cell_type": "code",
   "execution_count": 1,
   "id": "2ee4128b-a80f-4ac3-bfd0-97f49d578a74",
   "metadata": {},
   "outputs": [],
   "source": [
    "import os\n",
    "import glob\n",
    "\n",
    "import satpy\n",
    "from satpy import Scene\n",
    "from satpy.writers import to_image"
   ]
  },
  {
   "cell_type": "code",
   "execution_count": 2,
   "id": "70632600-95c8-4b70-84d7-0b8be06e226d",
   "metadata": {},
   "outputs": [],
   "source": [
    "files = glob.glob('/Users/watson-parris/Data/MYD021KM/*.hdf')"
   ]
  },
  {
   "cell_type": "code",
   "execution_count": 4,
   "id": "d0e771aa-66b1-4903-a2f5-347a0eb22e8e",
   "metadata": {},
   "outputs": [],
   "source": [
    "for file in files:\n",
    "    global_scene = (Scene(reader=\"modis_l1b\", filenames=[file]))\n",
    "    global_scene.load(['day_microphysics'], resolution=1000)  # This uses channels 1, 20 and 31)\n",
    "    img = to_image(global_scene['day_microphysics'])\n",
    "    # img.stretch(\"histogram\")\n",
    "    img.crude_stretch(min_stretch=[2.044909, 1.795136, 236.558919],\n",
    "                      max_stretch=[78.810258, 22.026770, 300.755732])\n",
    "    img.save(file+'.png')\n"
   ]
  },
  {
   "cell_type": "code",
   "execution_count": null,
   "id": "f8df9cca-1608-4a47-86a4-6981952bcb92",
   "metadata": {},
   "outputs": [],
   "source": []
  }
 ],
 "metadata": {
  "kernelspec": {
   "display_name": "satpy",
   "language": "python",
   "name": "python3"
  },
  "language_info": {
   "codemirror_mode": {
    "name": "ipython",
    "version": 3
   },
   "file_extension": ".py",
   "mimetype": "text/x-python",
   "name": "python",
   "nbconvert_exporter": "python",
   "pygments_lexer": "ipython3",
   "version": "3.9.16"
  }
 },
 "nbformat": 4,
 "nbformat_minor": 5
}
