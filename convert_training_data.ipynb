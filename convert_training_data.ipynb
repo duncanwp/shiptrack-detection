{
 "cells": [
  {
   "cell_type": "markdown",
   "id": "7656842d",
   "metadata": {},
   "source": [
    "## Convert training data\n",
    "\n",
    "Take the `.npz` files and convert to `.memmap` for easy use with memory-limited machines"
   ]
  },
  {
   "cell_type": "code",
   "execution_count": 1,
   "id": "d1a54690",
   "metadata": {},
   "outputs": [],
   "source": [
    "import numpy as np\n",
    "import os.path"
   ]
  },
  {
   "cell_type": "code",
   "execution_count": 2,
   "id": "83ed2059",
   "metadata": {},
   "outputs": [],
   "source": [
    "training_dir = \"/lustre_scratch/duncanwp/combined_v3_typed_new_composite\""
   ]
  },
  {
   "cell_type": "code",
   "execution_count": 3,
   "id": "cb5839e7",
   "metadata": {},
   "outputs": [],
   "source": [
    "if os.path.isfile(os.path.join(training_dir, 'data.npz')):\n",
    "    all_data = np.load(os.path.join(training_dir, 'data.npz'))['arr_0']\n",
    "elif os.path.isfile(os.path.join(training_dir, 'data.npy')):\n",
    "    all_data = np.load(os.path.join(training_dir, 'data.npy'))\n",
    "else:\n",
    "    raise ValueError(\"No training data found\")\n",
    "\n",
    "all_labels = np.load(os.path.join(training_dir, 'labels.npz'))['arr_0']\n",
    "\n",
    "# Shuffle the data in-place since the original training datasets are roughly ordered\n",
    "# Set a fixed seed for reproducibility\n",
    "R_SEED = 12345\n",
    "rstate = np.random.RandomState(R_SEED)\n",
    "rstate.shuffle(all_data)\n",
    "rstate = np.random.RandomState(R_SEED)  # Be sure to shuffle the labels using the same seed\n",
    "rstate.shuffle(all_labels)"
   ]
  },
  {
   "cell_type": "code",
   "execution_count": 4,
   "id": "2c950bde",
   "metadata": {},
   "outputs": [
    {
     "data": {
      "text/plain": [
       "dtype('uint8')"
      ]
     },
     "execution_count": 4,
     "metadata": {},
     "output_type": "execute_result"
    }
   ],
   "source": [
    "all_labels.dtype"
   ]
  },
  {
   "cell_type": "code",
   "execution_count": 5,
   "id": "05efab2e",
   "metadata": {},
   "outputs": [],
   "source": [
    "# See https://numpy.org/doc/stable/reference/generated/numpy.memmap.html\n",
    "filename = os.path.join(training_dir, 'data.memmap')\n",
    "fp = np.memmap(filename, dtype='uint8', mode='w+', shape=all_data.shape)\n",
    "fp[:] = all_data[:]\n",
    "fp.flush()"
   ]
  },
  {
   "cell_type": "code",
   "execution_count": 6,
   "id": "31bddfc8",
   "metadata": {},
   "outputs": [],
   "source": [
    "with open(os.path.join(training_dir, 'data.memmap.meta'), 'w+') as f:\n",
    "    f.writelines([str(all_data.shape), '\\n', 'uint8'])"
   ]
  },
  {
   "cell_type": "code",
   "execution_count": 7,
   "id": "c928d510",
   "metadata": {},
   "outputs": [],
   "source": [
    "# See https://numpy.org/doc/stable/reference/generated/numpy.memmap.html\n",
    "filename = os.path.join(training_dir, 'labels.memmap')\n",
    "fp = np.memmap(filename, dtype='uint8', mode='w+', shape=all_labels.shape)\n",
    "fp[:] = all_labels[:]\n",
    "fp.flush()"
   ]
  },
  {
   "cell_type": "code",
   "execution_count": 8,
   "id": "340b8c63",
   "metadata": {},
   "outputs": [],
   "source": [
    "with open(os.path.join(training_dir, 'labels.memmap.meta'), 'w+') as f:\n",
    "    f.writelines([str(all_data.shape), '\\n', 'uint8'])"
   ]
  }
 ],
 "metadata": {
  "kernelspec": {
   "display_name": "Python 3 (ipykernel)",
   "language": "python",
   "name": "python3"
  },
  "language_info": {
   "codemirror_mode": {
    "name": "ipython",
    "version": 3
   },
   "file_extension": ".py",
   "mimetype": "text/x-python",
   "name": "python",
   "nbconvert_exporter": "python",
   "pygments_lexer": "ipython3",
   "version": "3.8.12"
  }
 },
 "nbformat": 4,
 "nbformat_minor": 5
}
