{
 "cells": [
  {
   "cell_type": "code",
   "execution_count": 1,
   "id": "f893b7f8",
   "metadata": {},
   "outputs": [
    {
     "name": "stderr",
     "output_type": "stream",
     "text": [
      "2021-07-13 15:56:15.768199: I tensorflow/stream_executor/platform/default/dso_loader.cc:53] Successfully opened dynamic library libcudart.so.11.0\n"
     ]
    }
   ],
   "source": [
    "import numpy as np\n",
    "import tensorflow as tf\n",
    "import glob\n",
    "\n",
    "data_dir = \"/lustre_scratch/duncanwp/combined_v3_typed_new_composite\"\n",
    "\n",
    "IMG_SIZE = 448\n",
    "INT_IMG_SIZE = (2240, 1344)  # 5*IMG_SIZE, 3*IMG_SIZE\n",
    "\n",
    "\n",
    "def get_generator(all_data, all_labels):\n",
    "\n",
    "    for data, labels in zip(all_data, all_labels):\n",
    "#         print(data)\n",
    "        # Resize the data\n",
    "        _data = tf.image.resize(data, INT_IMG_SIZE) / 255.\n",
    "        _labels = tf.image.resize(tf.expand_dims(labels, -1), INT_IMG_SIZE, 'nearest') # Adding an extra color dim for tf.image\n",
    "#         print(_data)\n",
    "#         print(_labels)\n",
    "\n",
    "        # Slice the images to the final size...\n",
    "        flat_patches = tf.image.extract_patches(images=tf.expand_dims(_data, axis=0),\n",
    "                                                sizes=[1, IMG_SIZE, IMG_SIZE, 1],\n",
    "                                                strides=[1, IMG_SIZE, IMG_SIZE, 1],  # This should be the same as sizes\n",
    "                                                rates=[1, 1, 1, 1],\n",
    "                                                padding='VALID')\n",
    "        _data = tf.reshape(flat_patches, [-1, IMG_SIZE, IMG_SIZE, 3])  # Stack them along the leading dim\n",
    "\n",
    "        # ...And the labels\n",
    "        flat_patches = tf.image.extract_patches(images=tf.expand_dims(_labels, axis=0),\n",
    "                                                sizes=[1, IMG_SIZE, IMG_SIZE, 1],\n",
    "                                                strides=[1, IMG_SIZE, IMG_SIZE, 1],  # This should be the same as sizes\n",
    "                                                rates=[1, 1, 1, 1],\n",
    "                                                padding='VALID')\n",
    "        _labels = tf.reshape(flat_patches, [-1, IMG_SIZE, IMG_SIZE])  # Stack them along the leading dim\n",
    "#         print(\"done slicing\")\n",
    "\n",
    "        has_labels = tf.math.reduce_any(tf.reshape(_labels, [-1, IMG_SIZE*IMG_SIZE]) > 0, axis=1)\n",
    "#         print(has_labels)\n",
    "#         _data = tf.boolean_mask(_data, has_labels)\n",
    "#         _labels = tf.boolean_mask(_labels, has_labels)\n",
    "        for i in range(_data.shape[0]):\n",
    "            yield _data[i], _labels[i], has_labels[i]\n",
    "            \n",
    "\n",
    "def create_mixed_dataset(training_dir, shuffle_size=1024, balance=None):\n",
    "# Balance should be a tuple of shape (2, ) describing the positive/negative weighting\n",
    "    positive = create_dataset(training_dir, shuffle_size=shuffle_size, cls_label='positive')\n",
    "    negative = create_dataset(training_dir, shuffle_size=shuffle_size, cls_label='negative')\n",
    "    if balance is None:\n",
    "        balance = (0.5, 0.5)\n",
    "    sampled_ds=tf.data.experimental.sample_from_datasets(datasets, weights=balance)\n",
    "    return sampled_ds\n",
    "\n",
    "# Note, if we wanted fewer classes, we can use glob syntax to grab multiple classes as once\n",
    "# e.g. create_dataset(2015,\"[67]\")\n",
    "# will take classes 6 & 7 together\n",
    "\n",
    "def _parse_batch(record_batch):\n",
    "    # Create a description of the features\n",
    "    feature_description = {\n",
    "        'data': tf.io.FixedLenFeature(insize, tf.float32),\n",
    "        'mask': tf.io.FixedLenFeature(outsize, tf.float32),\n",
    "    }\n",
    "\n",
    "    # Parse the input `tf.Example` proto using the dictionary above\n",
    "    example = tf.io.parse_example(record_batch, feature_description)\n",
    "    return example['data'], example['mask']\n",
    "\n",
    "\n",
    "def create_dataset(training_dir, shuffle_size=1024, cls_label='positive'):\n",
    "    AUTOTUNE = tf.data.experimental.AUTOTUNE\n",
    "    fl = glob.glob(f\"/{training_dir}/tfrecords/*_{cls_label}.tfrecords\")\n",
    "    files_ds = tf.data.Dataset.list_files(fl)\n",
    "    ds = tf.data.TFRecordDataset(files_ds, num_parallel_reads=AUTOTUNE)\n",
    "    ds = ds.shuffle(shuffle_size)\n",
    "    ds = ds.map(lambda x: _parse_batch(x))\n",
    "    return ds\n",
    "\n",
    "def _float_feature(list_of_floats):  # float32\n",
    "    return tf.train.Feature(float_list=tf.train.FloatList(value=list_of_floats))\n",
    "\n",
    "\n",
    "def write_data(training_dir):\n",
    "    from shiptrack import load_numpy_arrays\n",
    "    from tqdm.notebook import tqdm\n",
    "    \n",
    "    all_data, all_labels = load_numpy_arrays(training_dir)\n",
    "\n",
    "\n",
    "    for i, (data, label, has_shiptrack) in tqdm(enumerate(get_generator(all_data, all_labels)), total=len(all_data)*15):\n",
    "        cls_label = 'positive' if has_shiptrack else 'negative'\n",
    "        fhandle = tf.io.TFRecordWriter(f\"/{training_dir}/tfrecords/{i:04d}_{cls_label}.tfrecords\")\n",
    "        feature = {\n",
    "            'data': _float_feature(data.numpy().flatten()),\n",
    "            'mask': _float_feature(label.numpy().flatten().astype(float)),\n",
    "        }\n",
    "        features = tf.train.Features(feature=feature)\n",
    "        example = tf.train.Example(features=features)\n",
    "        example_to_string = example.SerializeToString()\n",
    "        fhandle.write(example_to_string)\n",
    "        fhandle.close()\n"
   ]
  },
  {
   "cell_type": "code",
   "execution_count": 2,
   "id": "2ddec2a0",
   "metadata": {},
   "outputs": [
    {
     "name": "stdout",
     "output_type": "stream",
     "text": [
      "Segmentation Models: using `tf.keras` framework.\n",
      "channels_last\n"
     ]
    },
    {
     "data": {
      "application/vnd.jupyter.widget-view+json": {
       "model_id": "1f6b2ff50ae64a27b59bcc27ed7f3ae0",
       "version_major": 2,
       "version_minor": 0
      },
      "text/plain": [
       "  0%|          | 0/33075 [00:00<?, ?it/s]"
      ]
     },
     "metadata": {},
     "output_type": "display_data"
    },
    {
     "name": "stderr",
     "output_type": "stream",
     "text": [
      "2021-07-13 15:56:19.032384: I tensorflow/stream_executor/platform/default/dso_loader.cc:53] Successfully opened dynamic library libcuda.so.1\n",
      "2021-07-13 15:56:19.177089: I tensorflow/core/common_runtime/gpu/gpu_device.cc:1733] Found device 0 with properties: \n",
      "pciBusID: 0000:07:00.0 name: Tesla V100-SXM2-32GB-LS computeCapability: 7.0\n",
      "coreClock: 1.44GHz coreCount: 80 deviceMemorySize: 31.72GiB deviceMemoryBandwidth: 772.48GiB/s\n",
      "2021-07-13 15:56:19.180830: I tensorflow/core/common_runtime/gpu/gpu_device.cc:1733] Found device 1 with properties: \n",
      "pciBusID: 0000:0a:00.0 name: Tesla V100-SXM2-32GB-LS computeCapability: 7.0\n",
      "coreClock: 1.44GHz coreCount: 80 deviceMemorySize: 31.72GiB deviceMemoryBandwidth: 772.48GiB/s\n",
      "2021-07-13 15:56:19.180867: I tensorflow/stream_executor/platform/default/dso_loader.cc:53] Successfully opened dynamic library libcudart.so.11.0\n",
      "2021-07-13 15:56:19.186720: I tensorflow/stream_executor/platform/default/dso_loader.cc:53] Successfully opened dynamic library libcublas.so.11\n",
      "2021-07-13 15:56:19.186775: I tensorflow/stream_executor/platform/default/dso_loader.cc:53] Successfully opened dynamic library libcublasLt.so.11\n",
      "2021-07-13 15:56:19.188908: I tensorflow/stream_executor/platform/default/dso_loader.cc:53] Successfully opened dynamic library libcufft.so.10\n",
      "2021-07-13 15:56:19.189735: I tensorflow/stream_executor/platform/default/dso_loader.cc:53] Successfully opened dynamic library libcurand.so.10\n",
      "2021-07-13 15:56:19.191568: I tensorflow/stream_executor/platform/default/dso_loader.cc:53] Successfully opened dynamic library libcusolver.so.11\n",
      "2021-07-13 15:56:19.193223: I tensorflow/stream_executor/platform/default/dso_loader.cc:53] Successfully opened dynamic library libcusparse.so.11\n",
      "2021-07-13 15:56:19.193877: I tensorflow/stream_executor/platform/default/dso_loader.cc:53] Successfully opened dynamic library libcudnn.so.8\n",
      "2021-07-13 15:56:19.203150: I tensorflow/core/common_runtime/gpu/gpu_device.cc:1871] Adding visible gpu devices: 0, 1\n",
      "2021-07-13 15:56:19.204338: I tensorflow/core/platform/cpu_feature_guard.cc:142] This TensorFlow binary is optimized with oneAPI Deep Neural Network Library (oneDNN) to use the following CPU instructions in performance-critical operations:  AVX2 FMA\n",
      "To enable them in other operations, rebuild TensorFlow with the appropriate compiler flags.\n",
      "2021-07-13 15:56:19.672391: I tensorflow/core/common_runtime/gpu/gpu_device.cc:1733] Found device 0 with properties: \n",
      "pciBusID: 0000:07:00.0 name: Tesla V100-SXM2-32GB-LS computeCapability: 7.0\n",
      "coreClock: 1.44GHz coreCount: 80 deviceMemorySize: 31.72GiB deviceMemoryBandwidth: 772.48GiB/s\n",
      "2021-07-13 15:56:19.675771: I tensorflow/core/common_runtime/gpu/gpu_device.cc:1733] Found device 1 with properties: \n",
      "pciBusID: 0000:0a:00.0 name: Tesla V100-SXM2-32GB-LS computeCapability: 7.0\n",
      "coreClock: 1.44GHz coreCount: 80 deviceMemorySize: 31.72GiB deviceMemoryBandwidth: 772.48GiB/s\n",
      "2021-07-13 15:56:19.694432: I tensorflow/core/common_runtime/gpu/gpu_device.cc:1871] Adding visible gpu devices: 0, 1\n",
      "2021-07-13 15:56:19.694495: I tensorflow/stream_executor/platform/default/dso_loader.cc:53] Successfully opened dynamic library libcudart.so.11.0\n",
      "2021-07-13 15:56:20.626535: I tensorflow/core/common_runtime/gpu/gpu_device.cc:1258] Device interconnect StreamExecutor with strength 1 edge matrix:\n",
      "2021-07-13 15:56:20.626593: I tensorflow/core/common_runtime/gpu/gpu_device.cc:1264]      0 1 \n",
      "2021-07-13 15:56:20.626603: I tensorflow/core/common_runtime/gpu/gpu_device.cc:1277] 0:   N Y \n",
      "2021-07-13 15:56:20.626609: I tensorflow/core/common_runtime/gpu/gpu_device.cc:1277] 1:   Y N \n",
      "2021-07-13 15:56:20.646674: I tensorflow/core/common_runtime/gpu/gpu_device.cc:1418] Created TensorFlow device (/job:localhost/replica:0/task:0/device:GPU:0 with 30957 MB memory) -> physical GPU (device: 0, name: Tesla V100-SXM2-32GB-LS, pci bus id: 0000:07:00.0, compute capability: 7.0)\n",
      "2021-07-13 15:56:20.650493: I tensorflow/core/common_runtime/gpu/gpu_device.cc:1418] Created TensorFlow device (/job:localhost/replica:0/task:0/device:GPU:1 with 30957 MB memory) -> physical GPU (device: 1, name: Tesla V100-SXM2-32GB-LS, pci bus id: 0000:0a:00.0, compute capability: 7.0)\n"
     ]
    }
   ],
   "source": [
    "write_data(data_dir)"
   ]
  },
  {
   "cell_type": "code",
   "execution_count": null,
   "id": "205ba6be",
   "metadata": {},
   "outputs": [],
   "source": []
  }
 ],
 "metadata": {
  "kernelspec": {
   "display_name": "Shiptrack env",
   "language": "python",
   "name": "shiptrack-env"
  },
  "language_info": {
   "codemirror_mode": {
    "name": "ipython",
    "version": 3
   },
   "file_extension": ".py",
   "mimetype": "text/x-python",
   "name": "python",
   "nbconvert_exporter": "python",
   "pygments_lexer": "ipython3",
   "version": "3.9.6"
  }
 },
 "nbformat": 4,
 "nbformat_minor": 5
}
